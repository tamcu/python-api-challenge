{
 "cells": [
  {
   "cell_type": "markdown",
   "metadata": {},
   "source": [
    "# WeatherPy\n",
    "\n",
    "---\n",
    "\n",
    "## Starter Code to Generate Random Geographic Coordinates and a List of Cities"
   ]
  },
  {
   "cell_type": "code",
   "execution_count": 1,
   "metadata": {
    "scrolled": true
   },
   "outputs": [],
   "source": [
    "# Dependencies and Setup\n",
    "import matplotlib.pyplot as plt\n",
    "import pandas as pd\n",
    "import numpy as np\n",
    "import requests\n",
    "import time\n",
    "from scipy.stats import linregress\n",
    "\n",
    "# Impor the OpenWeatherMap API key\n",
    "from api_keys import weather_api_key\n",
    "\n",
    "# Import citipy to determine the cities based on latitude and longitude\n",
    "from citipy import citipy"
   ]
  },
  {
   "cell_type": "markdown",
   "metadata": {},
   "source": [
    "### Generate the Cities List by Using the `citipy` Library"
   ]
  },
  {
   "cell_type": "code",
   "execution_count": 2,
   "metadata": {},
   "outputs": [
    {
     "name": "stdout",
     "output_type": "stream",
     "text": [
      "Number of cities in the list: 580\n"
     ]
    }
   ],
   "source": [
    "# Empty list for holding the latitude and longitude combinations\n",
    "lat_lngs = []\n",
    "\n",
    "# Empty list for holding the cities names\n",
    "cities = []\n",
    "\n",
    "# Range of latitudes and longitudes\n",
    "lat_range = (-90, 90)\n",
    "lng_range = (-180, 180)\n",
    "\n",
    "# Create a set of random lat and lng combinations\n",
    "lats = np.random.uniform(lat_range[0], lat_range[1], size=1500)\n",
    "lngs = np.random.uniform(lng_range[0], lng_range[1], size=1500)\n",
    "lat_lngs = zip(lats, lngs)\n",
    "\n",
    "# Identify nearest city for each lat, lng combination\n",
    "for lat_lng in lat_lngs:\n",
    "    city = citipy.nearest_city(lat_lng[0], lat_lng[1]).city_name\n",
    "    \n",
    "    # If the city is unique, then add it to a our cities list\n",
    "    if city not in cities:\n",
    "        cities.append(city)\n",
    "\n",
    "# Print the city count to confirm sufficient count\n",
    "print(f\"Number of cities in the list: {len(cities)}\")"
   ]
  },
  {
   "cell_type": "markdown",
   "metadata": {},
   "source": [
    "---"
   ]
  },
  {
   "cell_type": "markdown",
   "metadata": {},
   "source": [
    "## Requirement 1: Create Plots to Showcase the Relationship Between Weather Variables and Latitude\n",
    "\n",
    "### Use the OpenWeatherMap API to retrieve weather data from the cities list generated in the started code"
   ]
  },
  {
   "cell_type": "code",
   "execution_count": 4,
   "metadata": {},
   "outputs": [
    {
     "name": "stdout",
     "output_type": "stream",
     "text": [
      "Beginning Data Retrieval     \n",
      "-----------------------------\n",
      "Processing Record 1 of Set 1 | punta arenas\n",
      "Processing Record 2 of Set 1 | margaret river\n",
      "Processing Record 3 of Set 1 | yellowknife\n",
      "Processing Record 4 of Set 1 | adamstown\n",
      "Processing Record 5 of Set 1 | iqaluit\n",
      "Processing Record 6 of Set 1 | el calafate\n",
      "Processing Record 7 of Set 1 | ushuaia\n",
      "Processing Record 8 of Set 1 | papatowai\n",
      "Processing Record 9 of Set 1 | port mathurin\n",
      "Processing Record 10 of Set 1 | kushiro\n",
      "Processing Record 11 of Set 1 | talnakh\n",
      "Processing Record 12 of Set 1 | port-aux-francais\n",
      "Processing Record 13 of Set 1 | edinburgh of the seven seas\n",
      "Processing Record 14 of Set 1 | stanley\n",
      "Processing Record 15 of Set 1 | port elizabeth\n",
      "Processing Record 16 of Set 1 | ust-nera\n",
      "Processing Record 17 of Set 1 | ketchikan\n",
      "Processing Record 18 of Set 1 | blackmans bay\n",
      "Processing Record 19 of Set 1 | magadan\n",
      "Processing Record 20 of Set 1 | tura\n",
      "Processing Record 21 of Set 1 | port lincoln\n",
      "Processing Record 22 of Set 1 | crane\n",
      "Processing Record 23 of Set 1 | dzhangala\n",
      "Processing Record 24 of Set 1 | bethel\n",
      "Processing Record 25 of Set 1 | karungdong\n",
      "Processing Record 26 of Set 1 | belem\n",
      "Processing Record 27 of Set 1 | carnarvon\n",
      "Processing Record 28 of Set 1 | dudinka\n",
      "Processing Record 29 of Set 1 | grytviken\n",
      "Processing Record 30 of Set 1 | longyearbyen\n",
      "Processing Record 31 of Set 1 | isafjordur\n",
      "Processing Record 32 of Set 1 | cockburn town\n",
      "Processing Record 33 of Set 1 | port alfred\n",
      "Processing Record 34 of Set 1 | ilulissat\n",
      "Processing Record 35 of Set 1 | waitangi\n",
      "Processing Record 36 of Set 1 | quellon\n",
      "Processing Record 37 of Set 1 | puerto ayora\n",
      "Processing Record 38 of Set 1 | flying fish cove\n",
      "Processing Record 39 of Set 1 | taiohae\n",
      "City not found. Skipping...\n",
      "Processing Record 40 of Set 1 | anadyr\n",
      "Processing Record 41 of Set 1 | st. john's\n",
      "Processing Record 42 of Set 1 | parry sound\n",
      "Processing Record 43 of Set 1 | hermanus\n",
      "Processing Record 44 of Set 1 | nova sintra\n",
      "Processing Record 45 of Set 1 | colonia\n",
      "Processing Record 46 of Set 1 | vilyuchinsk\n",
      "Processing Record 47 of Set 1 | iskateley\n",
      "Processing Record 48 of Set 1 | pisco\n",
      "Processing Record 49 of Set 1 | ghat\n",
      "Processing Record 50 of Set 1 | moanda\n",
      "Processing Record 0 of Set 2 | ta`u\n",
      "Processing Record 1 of Set 2 | general roca\n",
      "Processing Record 2 of Set 2 | parabel'\n",
      "Processing Record 3 of Set 2 | derinkuyu\n",
      "Processing Record 4 of Set 2 | puerto natales\n",
      "Processing Record 5 of Set 2 | pekanbaru\n",
      "Processing Record 6 of Set 2 | okigwe\n",
      "Processing Record 7 of Set 2 | kourou\n",
      "Processing Record 8 of Set 2 | bredasdorp\n",
      "Processing Record 9 of Set 2 | harnosand\n",
      "Processing Record 10 of Set 2 | trairi\n",
      "Processing Record 11 of Set 2 | ribeira grande\n",
      "Processing Record 12 of Set 2 | invercargill\n",
      "Processing Record 13 of Set 2 | madimba\n",
      "Processing Record 14 of Set 2 | alotau\n",
      "City not found. Skipping...\n",
      "Processing Record 15 of Set 2 | kununurra\n",
      "Processing Record 16 of Set 2 | bilibino\n",
      "Processing Record 17 of Set 2 | polyarnyy\n",
      "Processing Record 18 of Set 2 | guerrero negro\n",
      "Processing Record 19 of Set 2 | raja\n",
      "Processing Record 20 of Set 2 | hawaiian paradise park\n",
      "Processing Record 21 of Set 2 | badger\n",
      "Processing Record 22 of Set 2 | mengellang\n",
      "Processing Record 23 of Set 2 | molchanovo\n",
      "Processing Record 24 of Set 2 | haiku-pauwela\n",
      "Processing Record 25 of Set 2 | olonkinbyen\n",
      "Processing Record 26 of Set 2 | lompoc\n",
      "Processing Record 27 of Set 2 | kingscliff\n",
      "Processing Record 28 of Set 2 | whitehorse\n",
      "Processing Record 29 of Set 2 | fuvahmulah\n",
      "City not found. Skipping...\n",
      "Processing Record 30 of Set 2 | thompson\n",
      "Processing Record 31 of Set 2 | margate\n",
      "Processing Record 32 of Set 2 | ribeirao bonito\n",
      "Processing Record 33 of Set 2 | nemuro\n",
      "Processing Record 34 of Set 2 | oneonta\n",
      "Processing Record 35 of Set 2 | udachny\n",
      "Processing Record 36 of Set 2 | papao\n",
      "Processing Record 37 of Set 2 | southwater\n",
      "Processing Record 38 of Set 2 | asaita\n",
      "Processing Record 39 of Set 2 | porto velho\n",
      "Processing Record 40 of Set 2 | chibuto\n",
      "Processing Record 41 of Set 2 | raichur\n",
      "Processing Record 42 of Set 2 | fort st. john\n",
      "Processing Record 43 of Set 2 | ancud\n",
      "Processing Record 44 of Set 2 | cuiaba\n",
      "Processing Record 45 of Set 2 | marsh harbour\n",
      "Processing Record 46 of Set 2 | lebu\n",
      "Processing Record 47 of Set 2 | barah\n",
      "Processing Record 48 of Set 2 | jamestown\n",
      "Processing Record 49 of Set 2 | marion\n",
      "Processing Record 0 of Set 3 | nyurba\n",
      "Processing Record 1 of Set 3 | vangaindrano\n",
      "Processing Record 2 of Set 3 | tralee\n",
      "Processing Record 3 of Set 3 | cao bang\n",
      "Processing Record 4 of Set 3 | nuuk\n",
      "Processing Record 5 of Set 3 | puqi\n",
      "Processing Record 6 of Set 3 | luis correia\n",
      "Processing Record 7 of Set 3 | along\n",
      "Processing Record 8 of Set 3 | cidreira\n",
      "Processing Record 9 of Set 3 | albany\n",
      "Processing Record 10 of Set 3 | saipan\n",
      "Processing Record 11 of Set 3 | bayganin\n",
      "Processing Record 12 of Set 3 | minas de marcona\n",
      "Processing Record 13 of Set 3 | utrik\n",
      "Processing Record 14 of Set 3 | miles city\n",
      "Processing Record 15 of Set 3 | goz beida\n",
      "Processing Record 16 of Set 3 | las lomas\n",
      "Processing Record 17 of Set 3 | karukh\n",
      "Processing Record 18 of Set 3 | vorkuta\n",
      "Processing Record 19 of Set 3 | coari\n",
      "Processing Record 20 of Set 3 | cumaribo\n",
      "City not found. Skipping...\n",
      "Processing Record 21 of Set 3 | fisterra\n",
      "Processing Record 22 of Set 3 | college\n",
      "Processing Record 23 of Set 3 | jaisinghnagar\n",
      "Processing Record 24 of Set 3 | sinjai\n",
      "Processing Record 25 of Set 3 | cable beach\n",
      "City not found. Skipping...\n",
      "Processing Record 26 of Set 3 | zhangye\n",
      "Processing Record 27 of Set 3 | petropavlovsk-kamchatsky\n",
      "Processing Record 28 of Set 3 | pitkyaranta\n",
      "Processing Record 29 of Set 3 | mhamid\n",
      "Processing Record 30 of Set 3 | namibe\n",
      "Processing Record 31 of Set 3 | 'ohonua\n",
      "City not found. Skipping...\n",
      "Processing Record 32 of Set 3 | kodiak\n",
      "Processing Record 33 of Set 3 | grand falls-windsor\n",
      "Processing Record 34 of Set 3 | port macquarie\n",
      "Processing Record 35 of Set 3 | vilyuysk\n",
      "Processing Record 36 of Set 3 | borkum\n",
      "Processing Record 37 of Set 3 | geraldton\n",
      "Processing Record 38 of Set 3 | vernon\n",
      "Processing Record 39 of Set 3 | chonchi\n",
      "Processing Record 40 of Set 3 | marks\n",
      "Processing Record 41 of Set 3 | nampula\n",
      "Processing Record 42 of Set 3 | kralendijk\n",
      "Processing Record 43 of Set 3 | tevriz\n",
      "Processing Record 44 of Set 3 | mount pearl\n",
      "Processing Record 45 of Set 3 | avarua\n",
      "Processing Record 46 of Set 3 | 'ain merane\n",
      "Processing Record 47 of Set 3 | sao tome\n",
      "Processing Record 48 of Set 3 | thunder bay\n",
      "Processing Record 49 of Set 3 | mogocha\n",
      "Processing Record 0 of Set 4 | coquimbo\n",
      "Processing Record 1 of Set 4 | nar'yan-mar\n",
      "Processing Record 2 of Set 4 | keflavik\n",
      "Processing Record 3 of Set 4 | girifalco\n",
      "Processing Record 4 of Set 4 | dakhla\n",
      "Processing Record 5 of Set 4 | ushirombo\n",
      "Processing Record 6 of Set 4 | oxelosund\n",
      "Processing Record 7 of Set 4 | angra dos reis\n",
      "Processing Record 8 of Set 4 | samana\n",
      "Processing Record 9 of Set 4 | touros\n",
      "Processing Record 10 of Set 4 | athens\n",
      "Processing Record 11 of Set 4 | san patricio\n",
      "Processing Record 12 of Set 4 | marsa alam\n",
      "Processing Record 13 of Set 4 | wailua homesteads\n",
      "Processing Record 14 of Set 4 | nogliki\n",
      "Processing Record 15 of Set 4 | zinjibar\n",
      "Processing Record 16 of Set 4 | semey\n",
      "Processing Record 17 of Set 4 | alvaraes\n",
      "Processing Record 18 of Set 4 | lida\n",
      "Processing Record 19 of Set 4 | hengchun\n",
      "Processing Record 20 of Set 4 | muzayri'\n",
      "City not found. Skipping...\n",
      "Processing Record 21 of Set 4 | uturoa\n",
      "Processing Record 22 of Set 4 | mandvi\n",
      "Processing Record 23 of Set 4 | klyuchi\n",
      "Processing Record 24 of Set 4 | pacific grove\n",
      "Processing Record 25 of Set 4 | moose jaw\n",
      "Processing Record 26 of Set 4 | mikhaylovskoye\n",
      "Processing Record 27 of Set 4 | maumere\n",
      "Processing Record 28 of Set 4 | vadso\n",
      "Processing Record 29 of Set 4 | safi\n",
      "Processing Record 30 of Set 4 | camacupa\n",
      "Processing Record 31 of Set 4 | washington\n",
      "Processing Record 32 of Set 4 | changnyeong\n",
      "Processing Record 33 of Set 4 | svetlyy\n",
      "Processing Record 34 of Set 4 | cabo san lucas\n",
      "Processing Record 35 of Set 4 | sainte-anne-des-monts\n",
      "Processing Record 36 of Set 4 | alice springs\n",
      "Processing Record 37 of Set 4 | tiksi\n",
      "Processing Record 38 of Set 4 | petoskey\n",
      "Processing Record 39 of Set 4 | mount isa\n",
      "Processing Record 40 of Set 4 | dalandzadgad\n",
      "Processing Record 41 of Set 4 | itoman\n",
      "Processing Record 42 of Set 4 | khandyga\n",
      "Processing Record 43 of Set 4 | remire-montjoly\n",
      "Processing Record 44 of Set 4 | yangchun\n",
      "Processing Record 45 of Set 4 | arno\n",
      "Processing Record 46 of Set 4 | tsiombe\n",
      "Processing Record 47 of Set 4 | kuanda\n",
      "Processing Record 48 of Set 4 | enewetak\n",
      "Processing Record 49 of Set 4 | nagqu\n",
      "Processing Record 0 of Set 5 | san julian\n",
      "Processing Record 1 of Set 5 | atherton\n",
      "Processing Record 2 of Set 5 | as sulayyil\n",
      "Processing Record 3 of Set 5 | qaqortoq\n",
      "Processing Record 4 of Set 5 | cururupu\n",
      "Processing Record 5 of Set 5 | hadibu\n",
      "Processing Record 6 of Set 5 | drawsko pomorskie\n",
      "Processing Record 7 of Set 5 | cargados carajos\n",
      "City not found. Skipping...\n",
      "Processing Record 8 of Set 5 | guozhen\n",
      "Processing Record 9 of Set 5 | road town\n",
      "Processing Record 10 of Set 5 | west island\n",
      "Processing Record 11 of Set 5 | arraial do cabo\n",
      "Processing Record 12 of Set 5 | santo nino\n",
      "Processing Record 13 of Set 5 | ahau\n",
      "City not found. Skipping...\n",
      "Processing Record 14 of Set 5 | sambava\n",
      "Processing Record 15 of Set 5 | ola\n",
      "Processing Record 16 of Set 5 | aasiaat\n",
      "Processing Record 17 of Set 5 | loukhi\n",
      "Processing Record 18 of Set 5 | grants\n",
      "Processing Record 19 of Set 5 | guajara mirim\n",
      "Processing Record 20 of Set 5 | blackpool\n",
      "Processing Record 21 of Set 5 | castillos\n",
      "Processing Record 22 of Set 5 | berezovyy\n",
      "Processing Record 23 of Set 5 | san rafael\n",
      "Processing Record 24 of Set 5 | weno\n",
      "Processing Record 25 of Set 5 | bubaque\n",
      "Processing Record 26 of Set 5 | tuba city\n",
      "Processing Record 27 of Set 5 | walvis bay\n",
      "Processing Record 28 of Set 5 | sosnovo-ozerskoye\n",
      "Processing Record 29 of Set 5 | la punta\n",
      "Processing Record 30 of Set 5 | kuta\n",
      "Processing Record 31 of Set 5 | wuhai\n",
      "Processing Record 32 of Set 5 | corner brook\n",
      "Processing Record 33 of Set 5 | kharp\n",
      "Processing Record 34 of Set 5 | barbacha\n",
      "Processing Record 35 of Set 5 | garachico\n",
      "Processing Record 36 of Set 5 | ouellah\n",
      "City not found. Skipping...\n",
      "Processing Record 37 of Set 5 | billings\n",
      "Processing Record 38 of Set 5 | georgetown\n",
      "Processing Record 39 of Set 5 | saint-philippe\n",
      "Processing Record 40 of Set 5 | soio\n",
      "Processing Record 41 of Set 5 | hihifo\n",
      "City not found. Skipping...\n",
      "Processing Record 42 of Set 5 | mar del plata\n",
      "Processing Record 43 of Set 5 | mount gambier\n",
      "Processing Record 44 of Set 5 | emerald\n",
      "Processing Record 45 of Set 5 | yorkton\n",
      "Processing Record 46 of Set 5 | demirtas\n",
      "Processing Record 47 of Set 5 | el granada\n",
      "Processing Record 48 of Set 5 | praia da vitoria\n",
      "Processing Record 49 of Set 5 | zhanaozen\n",
      "Processing Record 0 of Set 6 | juneau\n",
      "Processing Record 1 of Set 6 | collie\n",
      "Processing Record 2 of Set 6 | puerto san carlos\n",
      "City not found. Skipping...\n",
      "Processing Record 3 of Set 6 | hassi messaoud\n",
      "Processing Record 4 of Set 6 | antsiranana\n",
      "Processing Record 5 of Set 6 | akureyri\n",
      "Processing Record 6 of Set 6 | nikolayevsk-on-amure\n",
      "Processing Record 7 of Set 6 | levuka\n",
      "Processing Record 8 of Set 6 | villavicencio\n",
      "Processing Record 9 of Set 6 | plettenberg bay\n",
      "Processing Record 10 of Set 6 | greymouth\n",
      "Processing Record 11 of Set 6 | caleta de carquin\n",
      "Processing Record 12 of Set 6 | leninskoye\n",
      "Processing Record 13 of Set 6 | tiznit\n",
      "Processing Record 14 of Set 6 | longonjo\n",
      "Processing Record 15 of Set 6 | isabela\n",
      "Processing Record 16 of Set 6 | nizhniy odes\n",
      "Processing Record 17 of Set 6 | felidhoo\n",
      "City not found. Skipping...\n",
      "Processing Record 18 of Set 6 | tolanaro\n",
      "Processing Record 19 of Set 6 | berdigestyakh\n",
      "Processing Record 20 of Set 6 | bikenibeu village\n",
      "Processing Record 21 of Set 6 | jieshi\n",
      "Processing Record 22 of Set 6 | montagu\n",
      "Processing Record 23 of Set 6 | itacare\n",
      "Processing Record 24 of Set 6 | kabompo\n",
      "Processing Record 25 of Set 6 | wenxing\n",
      "Processing Record 26 of Set 6 | smithers\n",
      "Processing Record 27 of Set 6 | zyryanovsk\n",
      "Processing Record 28 of Set 6 | santa rosalia\n",
      "Processing Record 29 of Set 6 | paungde\n",
      "Processing Record 30 of Set 6 | gwanda\n",
      "Processing Record 31 of Set 6 | sisimiut\n",
      "Processing Record 32 of Set 6 | hafar al-batin\n",
      "Processing Record 33 of Set 6 | yamba\n",
      "Processing Record 34 of Set 6 | dhuusamarreeb\n",
      "Processing Record 35 of Set 6 | raton\n",
      "Processing Record 36 of Set 6 | turbat\n",
      "Processing Record 37 of Set 6 | velyka pysarivka\n",
      "Processing Record 38 of Set 6 | abra pampa\n",
      "Processing Record 39 of Set 6 | sola\n",
      "Processing Record 40 of Set 6 | vorgashor\n",
      "Processing Record 41 of Set 6 | pandan\n",
      "Processing Record 42 of Set 6 | naze\n",
      "Processing Record 43 of Set 6 | baluntaicun\n",
      "City not found. Skipping...\n",
      "Processing Record 44 of Set 6 | imbituba\n",
      "Processing Record 45 of Set 6 | sisophon\n",
      "Processing Record 46 of Set 6 | sferracavallo\n",
      "Processing Record 47 of Set 6 | lisarow\n",
      "Processing Record 48 of Set 6 | lushoto\n",
      "Processing Record 49 of Set 6 | hasaki\n",
      "Processing Record 0 of Set 7 | sulak\n",
      "Processing Record 1 of Set 7 | baijiantan\n",
      "Processing Record 2 of Set 7 | ermelo\n",
      "Processing Record 3 of Set 7 | sassandra\n",
      "Processing Record 4 of Set 7 | xinqing\n",
      "Processing Record 5 of Set 7 | kapa'a\n",
      "Processing Record 6 of Set 7 | la ronge\n",
      "Processing Record 7 of Set 7 | saqqez\n",
      "Processing Record 8 of Set 7 | kristiansund\n",
      "Processing Record 9 of Set 7 | hays\n",
      "Processing Record 10 of Set 7 | atafu village\n",
      "Processing Record 11 of Set 7 | impfondo\n",
      "Processing Record 12 of Set 7 | alaghsas\n",
      "Processing Record 13 of Set 7 | yuzhno-kurilsk\n",
      "Processing Record 14 of Set 7 | revelstoke\n",
      "Processing Record 15 of Set 7 | leava\n",
      "Processing Record 16 of Set 7 | brisas de zicatela\n",
      "Processing Record 17 of Set 7 | abepura\n",
      "Processing Record 18 of Set 7 | hilo\n",
      "Processing Record 19 of Set 7 | masuguru\n",
      "Processing Record 20 of Set 7 | pesaro\n",
      "Processing Record 21 of Set 7 | puerto real\n",
      "Processing Record 22 of Set 7 | salinopolis\n",
      "Processing Record 23 of Set 7 | fada\n",
      "Processing Record 24 of Set 7 | sonsorol village\n",
      "City not found. Skipping...\n",
      "Processing Record 25 of Set 7 | taoudenni\n",
      "Processing Record 26 of Set 7 | tarawa\n",
      "Processing Record 27 of Set 7 | kerikeri\n",
      "Processing Record 28 of Set 7 | rock springs\n",
      "Processing Record 29 of Set 7 | mvurwi\n",
      "Processing Record 30 of Set 7 | obihiro\n",
      "Processing Record 31 of Set 7 | dryden\n",
      "Processing Record 32 of Set 7 | santo antonio do ica\n",
      "Processing Record 33 of Set 7 | susuman\n",
      "Processing Record 34 of Set 7 | riyadh\n",
      "Processing Record 35 of Set 7 | selfoss\n",
      "Processing Record 36 of Set 7 | huron\n",
      "Processing Record 37 of Set 7 | fernie\n",
      "Processing Record 38 of Set 7 | mount carmel\n",
      "Processing Record 39 of Set 7 | sao jose da coroa grande\n",
      "Processing Record 40 of Set 7 | labrador city\n",
      "Processing Record 41 of Set 7 | aripuana\n",
      "Processing Record 42 of Set 7 | hithadhoo\n",
      "Processing Record 43 of Set 7 | santa cruz\n",
      "Processing Record 44 of Set 7 | bondoukou\n",
      "Processing Record 45 of Set 7 | sinabang\n",
      "Processing Record 46 of Set 7 | viedma\n",
      "Processing Record 47 of Set 7 | covilha\n",
      "Processing Record 48 of Set 7 | kill devil hills\n",
      "Processing Record 49 of Set 7 | lanxi\n",
      "Processing Record 0 of Set 8 | shiguai\n",
      "Processing Record 1 of Set 8 | kuqa\n",
      "Processing Record 2 of Set 8 | al majaridah\n",
      "Processing Record 3 of Set 8 | belmonte\n",
      "Processing Record 4 of Set 8 | muisne\n",
      "Processing Record 5 of Set 8 | ujae\n",
      "Processing Record 6 of Set 8 | rongelap\n",
      "Processing Record 7 of Set 8 | zambezi\n",
      "Processing Record 8 of Set 8 | lewiston orchards\n",
      "Processing Record 9 of Set 8 | de aar\n",
      "Processing Record 10 of Set 8 | fort mcmurray\n",
      "Processing Record 11 of Set 8 | lihue\n",
      "Processing Record 12 of Set 8 | horn\n",
      "Processing Record 13 of Set 8 | takab\n",
      "Processing Record 14 of Set 8 | brookings\n",
      "Processing Record 15 of Set 8 | hotan\n",
      "Processing Record 16 of Set 8 | tofol\n",
      "Processing Record 17 of Set 8 | supaul\n",
      "Processing Record 18 of Set 8 | rio grande\n",
      "Processing Record 19 of Set 8 | popondetta\n",
      "Processing Record 20 of Set 8 | langepas\n",
      "Processing Record 21 of Set 8 | khovd\n",
      "Processing Record 22 of Set 8 | vingt cinq\n",
      "City not found. Skipping...\n",
      "Processing Record 23 of Set 8 | chernyshevskiy\n",
      "Processing Record 24 of Set 8 | nadym\n",
      "Processing Record 25 of Set 8 | mangaratiba\n",
      "Processing Record 26 of Set 8 | callao\n",
      "Processing Record 27 of Set 8 | werlte\n",
      "Processing Record 28 of Set 8 | malatya\n",
      "Processing Record 29 of Set 8 | yangor\n",
      "City not found. Skipping...\n",
      "Processing Record 30 of Set 8 | vila velha\n",
      "Processing Record 31 of Set 8 | chifeng\n",
      "Processing Record 32 of Set 8 | westport\n",
      "Processing Record 33 of Set 8 | wenzhou\n",
      "Processing Record 34 of Set 8 | gadzhiyevo\n",
      "Processing Record 35 of Set 8 | kenai\n",
      "Processing Record 36 of Set 8 | namie\n",
      "Processing Record 37 of Set 8 | santo antonio\n",
      "Processing Record 38 of Set 8 | qarauyl\n",
      "Processing Record 39 of Set 8 | galliano\n",
      "Processing Record 40 of Set 8 | luderitz\n",
      "Processing Record 41 of Set 8 | barnard castle\n",
      "Processing Record 42 of Set 8 | duba\n",
      "Processing Record 43 of Set 8 | beira\n",
      "Processing Record 44 of Set 8 | jacmel\n",
      "Processing Record 45 of Set 8 | afaahiti\n",
      "Processing Record 46 of Set 8 | el charco\n",
      "Processing Record 47 of Set 8 | tindouf\n",
      "Processing Record 48 of Set 8 | usinsk\n",
      "Processing Record 49 of Set 8 | puerto baquerizo moreno\n",
      "Processing Record 0 of Set 9 | necochea\n",
      "Processing Record 1 of Set 9 | constantia\n",
      "Processing Record 2 of Set 9 | cannonvale\n",
      "Processing Record 3 of Set 9 | howard springs\n",
      "Processing Record 4 of Set 9 | kazerun\n",
      "Processing Record 5 of Set 9 | mukalla\n",
      "Processing Record 6 of Set 9 | lodja\n",
      "Processing Record 7 of Set 9 | nueva palestina\n",
      "Processing Record 8 of Set 9 | klaksvik\n",
      "Processing Record 9 of Set 9 | fale old settlement\n",
      "Processing Record 10 of Set 9 | krasnogorskoye\n",
      "Processing Record 11 of Set 9 | holualoa\n",
      "Processing Record 12 of Set 9 | saint-paul\n",
      "Processing Record 13 of Set 9 | ytyk-kyuyel'\n",
      "City not found. Skipping...\n",
      "Processing Record 14 of Set 9 | oranjemund\n",
      "Processing Record 15 of Set 9 | colares\n",
      "Processing Record 16 of Set 9 | pujehun\n",
      "Processing Record 17 of Set 9 | midvagur\n",
      "Processing Record 18 of Set 9 | katsuren-haebaru\n",
      "Processing Record 19 of Set 9 | tadine\n",
      "Processing Record 20 of Set 9 | al bawiti\n",
      "Processing Record 21 of Set 9 | gejiu\n",
      "Processing Record 22 of Set 9 | sarupathar\n",
      "Processing Record 23 of Set 9 | kingston\n",
      "Processing Record 24 of Set 9 | fort bragg\n",
      "Processing Record 25 of Set 9 | ruma\n",
      "Processing Record 26 of Set 9 | kopong\n",
      "Processing Record 27 of Set 9 | bridgewater\n",
      "Processing Record 28 of Set 9 | hamilton\n",
      "Processing Record 29 of Set 9 | ormond-by-the-sea\n",
      "Processing Record 30 of Set 9 | island harbour\n",
      "Processing Record 31 of Set 9 | nizhnyaya tavda\n",
      "Processing Record 32 of Set 9 | callaway\n",
      "Processing Record 33 of Set 9 | arrifes\n",
      "Processing Record 34 of Set 9 | port moresby\n",
      "Processing Record 35 of Set 9 | la passe\n",
      "Processing Record 36 of Set 9 | argo\n",
      "Processing Record 37 of Set 9 | elko\n",
      "Processing Record 38 of Set 9 | san andres\n",
      "Processing Record 39 of Set 9 | saint-louis\n",
      "Processing Record 40 of Set 9 | acatlan de osorio\n",
      "Processing Record 41 of Set 9 | wamba\n",
      "Processing Record 42 of Set 9 | bengkulu\n",
      "Processing Record 43 of Set 9 | pilar\n",
      "Processing Record 44 of Set 9 | awjilah\n",
      "Processing Record 45 of Set 9 | washington court house\n",
      "Processing Record 46 of Set 9 | ulladulla\n",
      "Processing Record 47 of Set 9 | happy valley-goose bay\n",
      "Processing Record 48 of Set 9 | gaspe\n",
      "Processing Record 49 of Set 9 | dourados\n",
      "Processing Record 0 of Set 10 | kozle\n",
      "Processing Record 1 of Set 10 | bir el ater\n",
      "Processing Record 2 of Set 10 | manokwari\n",
      "Processing Record 3 of Set 10 | baynjiwayn\n",
      "Processing Record 4 of Set 10 | magistral'nyy\n",
      "Processing Record 5 of Set 10 | flin flon\n",
      "Processing Record 6 of Set 10 | ayaguz\n",
      "City not found. Skipping...\n",
      "Processing Record 7 of Set 10 | annau\n",
      "Processing Record 8 of Set 10 | illizi\n",
      "Processing Record 9 of Set 10 | chibougamau\n",
      "Processing Record 10 of Set 10 | sao felix do xingu\n",
      "Processing Record 11 of Set 10 | nuku'alofa\n",
      "Processing Record 12 of Set 10 | portland\n",
      "Processing Record 13 of Set 10 | tomatlan\n",
      "Processing Record 14 of Set 10 | tulun\n",
      "Processing Record 15 of Set 10 | aykhal\n",
      "Processing Record 16 of Set 10 | port augusta\n",
      "Processing Record 17 of Set 10 | egilsstadir\n",
      "Processing Record 18 of Set 10 | ilhabela\n",
      "Processing Record 19 of Set 10 | haflong\n",
      "Processing Record 20 of Set 10 | deniliquin\n",
      "Processing Record 21 of Set 10 | paita\n",
      "Processing Record 22 of Set 10 | chapaev\n",
      "Processing Record 23 of Set 10 | bandundu\n",
      "Processing Record 24 of Set 10 | sitka\n",
      "Processing Record 25 of Set 10 | aitape\n",
      "Processing Record 26 of Set 10 | hohhot\n",
      "Processing Record 27 of Set 10 | middelburg\n",
      "Processing Record 28 of Set 10 | uzgen\n",
      "Processing Record 29 of Set 10 | sao filipe\n",
      "Processing Record 30 of Set 10 | vanimo\n",
      "Processing Record 31 of Set 10 | lautoka\n",
      "Processing Record 32 of Set 10 | villa dolores\n",
      "Processing Record 33 of Set 10 | salalah\n",
      "Processing Record 34 of Set 10 | guanica\n",
      "Processing Record 35 of Set 10 | fortuna\n",
      "Processing Record 36 of Set 10 | mithi\n",
      "Processing Record 37 of Set 10 | dingzhou\n",
      "Processing Record 38 of Set 10 | vila franca do campo\n",
      "Processing Record 39 of Set 10 | kabalo\n",
      "Processing Record 40 of Set 10 | mafra\n",
      "Processing Record 41 of Set 10 | baza\n",
      "Processing Record 42 of Set 10 | buta\n",
      "Processing Record 43 of Set 10 | bloemfontein\n",
      "Processing Record 44 of Set 10 | abhar\n",
      "Processing Record 45 of Set 10 | hoi an\n",
      "Processing Record 46 of Set 10 | caburan\n",
      "Processing Record 47 of Set 10 | huarmey\n",
      "Processing Record 48 of Set 10 | al-`ula\n",
      "City not found. Skipping...\n",
      "Processing Record 49 of Set 10 | shimoda\n",
      "Processing Record 0 of Set 11 | peniche\n",
      "Processing Record 1 of Set 11 | suntar\n",
      "Processing Record 2 of Set 11 | cole harbour\n",
      "Processing Record 3 of Set 11 | aban\n",
      "Processing Record 4 of Set 11 | mitsamiouli\n",
      "Processing Record 5 of Set 11 | kone\n",
      "Processing Record 6 of Set 11 | waddan\n",
      "Processing Record 7 of Set 11 | lerwick\n",
      "Processing Record 8 of Set 11 | aljezur\n",
      "Processing Record 9 of Set 11 | mercedes\n",
      "Processing Record 10 of Set 11 | beroroha\n",
      "Processing Record 11 of Set 11 | huasahuasi\n",
      "Processing Record 12 of Set 11 | taltal\n",
      "Processing Record 13 of Set 11 | boonville\n",
      "Processing Record 14 of Set 11 | porto novo\n",
      "Processing Record 15 of Set 11 | lata\n",
      "Processing Record 16 of Set 11 | pechory\n",
      "Processing Record 17 of Set 11 | mahina\n",
      "Processing Record 18 of Set 11 | kolonia town\n",
      "Processing Record 19 of Set 11 | ust-tsilma\n",
      "Processing Record 20 of Set 11 | jingmen\n",
      "Processing Record 21 of Set 11 | sandnessjoen\n",
      "Processing Record 22 of Set 11 | luanda\n",
      "Processing Record 23 of Set 11 | tromso\n",
      "Processing Record 24 of Set 11 | fernley\n",
      "Processing Record 25 of Set 11 | copala\n",
      "Processing Record 26 of Set 11 | east london\n",
      "Processing Record 27 of Set 11 | mahibadhoo\n",
      "Processing Record 28 of Set 11 | okhotsk\n",
      "Processing Record 29 of Set 11 | ed damer\n",
      "Processing Record 30 of Set 11 | porto seguro\n",
      "Processing Record 31 of Set 11 | acarau\n",
      "Processing Record 32 of Set 11 | ust'-kut\n",
      "Processing Record 33 of Set 11 | ad dilam\n",
      "Processing Record 34 of Set 11 | changsu\n",
      "Processing Record 35 of Set 11 | chengzihe\n",
      "Processing Record 36 of Set 11 | karatau\n",
      "Processing Record 37 of Set 11 | novodvinsk\n",
      "Processing Record 38 of Set 11 | strathfieldsaye\n",
      "Processing Record 39 of Set 11 | weymouth\n",
      "Processing Record 40 of Set 11 | turpan\n",
      "Processing Record 41 of Set 11 | zaragoza\n",
      "Processing Record 42 of Set 11 | at taj\n",
      "Processing Record 43 of Set 11 | mandalgovi\n",
      "Processing Record 44 of Set 11 | kas\n",
      "Processing Record 45 of Set 11 | codrington\n",
      "Processing Record 46 of Set 11 | kavalerovo\n",
      "Processing Record 47 of Set 11 | praya\n",
      "Processing Record 48 of Set 11 | roma\n",
      "Processing Record 49 of Set 11 | la gi\n",
      "Processing Record 0 of Set 12 | broome\n",
      "Processing Record 1 of Set 12 | toga village\n",
      "City not found. Skipping...\n",
      "Processing Record 2 of Set 12 | salto\n",
      "Processing Record 3 of Set 12 | new kingman-butler\n",
      "Processing Record 4 of Set 12 | kapuskasing\n",
      "Processing Record 5 of Set 12 | lib\n",
      "Processing Record 6 of Set 12 | zouerate\n",
      "Processing Record 7 of Set 12 | amga\n",
      "Processing Record 8 of Set 12 | laracha\n",
      "Processing Record 9 of Set 12 | jarny\n",
      "Processing Record 10 of Set 12 | joshimath\n",
      "Processing Record 11 of Set 12 | tamanrasset\n",
      "Processing Record 12 of Set 12 | campbell river\n",
      "Processing Record 13 of Set 12 | shendi\n",
      "Processing Record 14 of Set 12 | manadhoo\n",
      "Processing Record 15 of Set 12 | zastron\n",
      "Processing Record 16 of Set 12 | kirensk\n",
      "Processing Record 17 of Set 12 | ocean pointe\n",
      "City not found. Skipping...\n",
      "Processing Record 18 of Set 12 | huangpi\n",
      "Processing Record 19 of Set 12 | kasama\n",
      "Processing Record 20 of Set 12 | cunduacan\n",
      "Processing Record 21 of Set 12 | dunedin\n",
      "Processing Record 22 of Set 12 | petrolina\n",
      "Processing Record 23 of Set 12 | kosong\n",
      "Processing Record 24 of Set 12 | uttarkashi\n",
      "Processing Record 25 of Set 12 | wagar\n",
      "Processing Record 26 of Set 12 | kalevala\n",
      "Processing Record 27 of Set 12 | pudur\n",
      "Processing Record 28 of Set 12 | valparaiso\n",
      "Processing Record 29 of Set 12 | san juan de miraflores\n",
      "-----------------------------\n",
      "Data Retrieval Complete      \n",
      "-----------------------------\n"
     ]
    }
   ],
   "source": [
    "# Set the API base URL\n",
    "url = \"https://api.openweathermap.org/data/2.5/weather?\"\n",
    "\n",
    "# Define an empty list to fetch the weather data for each city\n",
    "city_data = []\n",
    "\n",
    "# Print to logger\n",
    "print(\"Beginning Data Retrieval     \")\n",
    "print(\"-----------------------------\")\n",
    "\n",
    "# Create counters\n",
    "record_count = 1\n",
    "set_count = 1\n",
    "\n",
    "# Loop through all the cities in our list to fetch weather data\n",
    "for i, city in enumerate(cities):\n",
    "        \n",
    "    # Group cities in sets of 50 for logging purposes\n",
    "    if (i % 50 == 0 and i >= 50):\n",
    "        set_count += 1\n",
    "        record_count = 0\n",
    "\n",
    "    # Create endpoint URL with each city\n",
    "    city_url = f\"{url}q={city}&units=metric&appid={weather_api_key}\"\n",
    "    \n",
    "    # Log the url, record, and set numbers\n",
    "    print(\"Processing Record %s of Set %s | %s\" % (record_count, set_count, city))\n",
    "\n",
    "    # Add 1 to the record count\n",
    "    record_count += 1\n",
    "\n",
    "    # Run an API request for each of the cities\n",
    "    try:\n",
    "        # Parse the JSON and retrieve data\n",
    "        city_weather = requests.get(city_url).json()\n",
    "\n",
    "        # Parse out latitude, longitude, max temp, humidity, cloudiness, wind speed, country, and date\n",
    "        city_lat = city_weather['coord']['lat']\n",
    "        city_lng = city_weather['coord']['lon']\n",
    "        city_max_temp = city_weather['main']['temp_max']\n",
    "        city_humidity = city_weather['main']['humidity']\n",
    "        city_clouds = city_weather['clouds']['all']\n",
    "        city_wind = city_weather['wind']['speed']\n",
    "        city_country = city_weather['sys']['country']\n",
    "        city_date = city_weather['dt']\n",
    "\n",
    "        # Append the City information into city_data list\n",
    "        city_data.append({\"City\": city, \n",
    "                          \"Lat\": city_lat, \n",
    "                          \"Lng\": city_lng, \n",
    "                          \"Max Temp\": city_max_temp,\n",
    "                          \"Humidity\": city_humidity,\n",
    "                          \"Cloudiness\": city_clouds,\n",
    "                          \"Wind Speed\": city_wind,\n",
    "                          \"Country\": city_country,\n",
    "                          \"Date\": city_date})\n",
    "\n",
    "    # If an error is experienced, skip the city\n",
    "    except:\n",
    "        print(\"City not found. Skipping...\")\n",
    "        pass\n",
    "              \n",
    "# Indicate that Data Loading is complete \n",
    "print(\"-----------------------------\")\n",
    "print(\"Data Retrieval Complete      \")\n",
    "print(\"-----------------------------\")"
   ]
  },
  {
   "cell_type": "code",
   "execution_count": 5,
   "metadata": {},
   "outputs": [
    {
     "data": {
      "text/plain": [
       "City          558\n",
       "Lat           558\n",
       "Lng           558\n",
       "Max Temp      558\n",
       "Humidity      558\n",
       "Cloudiness    558\n",
       "Wind Speed    558\n",
       "Country       558\n",
       "Date          558\n",
       "dtype: int64"
      ]
     },
     "execution_count": 5,
     "metadata": {},
     "output_type": "execute_result"
    }
   ],
   "source": [
    "# Convert the cities weather data into a Pandas DataFrame\n",
    "city_data_df = pd.DataFrame(city_data)\n",
    "\n",
    "# Show Record Count\n",
    "city_data_df.count()"
   ]
  },
  {
   "cell_type": "code",
   "execution_count": 6,
   "metadata": {},
   "outputs": [
    {
     "data": {
      "text/html": [
       "<div>\n",
       "<style scoped>\n",
       "    .dataframe tbody tr th:only-of-type {\n",
       "        vertical-align: middle;\n",
       "    }\n",
       "\n",
       "    .dataframe tbody tr th {\n",
       "        vertical-align: top;\n",
       "    }\n",
       "\n",
       "    .dataframe thead th {\n",
       "        text-align: right;\n",
       "    }\n",
       "</style>\n",
       "<table border=\"1\" class=\"dataframe\">\n",
       "  <thead>\n",
       "    <tr style=\"text-align: right;\">\n",
       "      <th></th>\n",
       "      <th>City</th>\n",
       "      <th>Lat</th>\n",
       "      <th>Lng</th>\n",
       "      <th>Max Temp</th>\n",
       "      <th>Humidity</th>\n",
       "      <th>Cloudiness</th>\n",
       "      <th>Wind Speed</th>\n",
       "      <th>Country</th>\n",
       "      <th>Date</th>\n",
       "    </tr>\n",
       "  </thead>\n",
       "  <tbody>\n",
       "    <tr>\n",
       "      <th>0</th>\n",
       "      <td>punta arenas</td>\n",
       "      <td>-53.1500</td>\n",
       "      <td>-70.9167</td>\n",
       "      <td>11.06</td>\n",
       "      <td>82</td>\n",
       "      <td>20</td>\n",
       "      <td>3.09</td>\n",
       "      <td>CL</td>\n",
       "      <td>1709606178</td>\n",
       "    </tr>\n",
       "    <tr>\n",
       "      <th>1</th>\n",
       "      <td>margaret river</td>\n",
       "      <td>-33.9500</td>\n",
       "      <td>115.0667</td>\n",
       "      <td>22.25</td>\n",
       "      <td>48</td>\n",
       "      <td>0</td>\n",
       "      <td>5.55</td>\n",
       "      <td>AU</td>\n",
       "      <td>1709606179</td>\n",
       "    </tr>\n",
       "    <tr>\n",
       "      <th>2</th>\n",
       "      <td>yellowknife</td>\n",
       "      <td>62.4560</td>\n",
       "      <td>-114.3525</td>\n",
       "      <td>-24.77</td>\n",
       "      <td>82</td>\n",
       "      <td>20</td>\n",
       "      <td>2.57</td>\n",
       "      <td>CA</td>\n",
       "      <td>1709606159</td>\n",
       "    </tr>\n",
       "    <tr>\n",
       "      <th>3</th>\n",
       "      <td>adamstown</td>\n",
       "      <td>-25.0660</td>\n",
       "      <td>-130.1015</td>\n",
       "      <td>24.37</td>\n",
       "      <td>73</td>\n",
       "      <td>49</td>\n",
       "      <td>8.27</td>\n",
       "      <td>PN</td>\n",
       "      <td>1709606180</td>\n",
       "    </tr>\n",
       "    <tr>\n",
       "      <th>4</th>\n",
       "      <td>iqaluit</td>\n",
       "      <td>63.7506</td>\n",
       "      <td>-68.5145</td>\n",
       "      <td>-33.15</td>\n",
       "      <td>68</td>\n",
       "      <td>0</td>\n",
       "      <td>4.12</td>\n",
       "      <td>CA</td>\n",
       "      <td>1709606180</td>\n",
       "    </tr>\n",
       "  </tbody>\n",
       "</table>\n",
       "</div>"
      ],
      "text/plain": [
       "             City      Lat       Lng  Max Temp  Humidity  Cloudiness  \\\n",
       "0    punta arenas -53.1500  -70.9167     11.06        82          20   \n",
       "1  margaret river -33.9500  115.0667     22.25        48           0   \n",
       "2     yellowknife  62.4560 -114.3525    -24.77        82          20   \n",
       "3       adamstown -25.0660 -130.1015     24.37        73          49   \n",
       "4         iqaluit  63.7506  -68.5145    -33.15        68           0   \n",
       "\n",
       "   Wind Speed Country        Date  \n",
       "0        3.09      CL  1709606178  \n",
       "1        5.55      AU  1709606179  \n",
       "2        2.57      CA  1709606159  \n",
       "3        8.27      PN  1709606180  \n",
       "4        4.12      CA  1709606180  "
      ]
     },
     "execution_count": 6,
     "metadata": {},
     "output_type": "execute_result"
    }
   ],
   "source": [
    "# Display sample data\n",
    "city_data_df.head()"
   ]
  },
  {
   "cell_type": "code",
   "execution_count": 9,
   "metadata": {},
   "outputs": [],
   "source": [
    "# Export the City_Data into a csv\n",
    "city_data_df.to_csv(\"cities.csv\", index_label=\"City_ID\")"
   ]
  },
  {
   "cell_type": "code",
   "execution_count": 10,
   "metadata": {},
   "outputs": [
    {
     "data": {
      "text/html": [
       "<div>\n",
       "<style scoped>\n",
       "    .dataframe tbody tr th:only-of-type {\n",
       "        vertical-align: middle;\n",
       "    }\n",
       "\n",
       "    .dataframe tbody tr th {\n",
       "        vertical-align: top;\n",
       "    }\n",
       "\n",
       "    .dataframe thead th {\n",
       "        text-align: right;\n",
       "    }\n",
       "</style>\n",
       "<table border=\"1\" class=\"dataframe\">\n",
       "  <thead>\n",
       "    <tr style=\"text-align: right;\">\n",
       "      <th></th>\n",
       "      <th>City</th>\n",
       "      <th>Lat</th>\n",
       "      <th>Lng</th>\n",
       "      <th>Max Temp</th>\n",
       "      <th>Humidity</th>\n",
       "      <th>Cloudiness</th>\n",
       "      <th>Wind Speed</th>\n",
       "      <th>Country</th>\n",
       "      <th>Date</th>\n",
       "    </tr>\n",
       "    <tr>\n",
       "      <th>City_ID</th>\n",
       "      <th></th>\n",
       "      <th></th>\n",
       "      <th></th>\n",
       "      <th></th>\n",
       "      <th></th>\n",
       "      <th></th>\n",
       "      <th></th>\n",
       "      <th></th>\n",
       "      <th></th>\n",
       "    </tr>\n",
       "  </thead>\n",
       "  <tbody>\n",
       "    <tr>\n",
       "      <th>0</th>\n",
       "      <td>punta arenas</td>\n",
       "      <td>-53.1500</td>\n",
       "      <td>-70.9167</td>\n",
       "      <td>11.06</td>\n",
       "      <td>82</td>\n",
       "      <td>20</td>\n",
       "      <td>3.09</td>\n",
       "      <td>CL</td>\n",
       "      <td>1709606178</td>\n",
       "    </tr>\n",
       "    <tr>\n",
       "      <th>1</th>\n",
       "      <td>margaret river</td>\n",
       "      <td>-33.9500</td>\n",
       "      <td>115.0667</td>\n",
       "      <td>22.25</td>\n",
       "      <td>48</td>\n",
       "      <td>0</td>\n",
       "      <td>5.55</td>\n",
       "      <td>AU</td>\n",
       "      <td>1709606179</td>\n",
       "    </tr>\n",
       "    <tr>\n",
       "      <th>2</th>\n",
       "      <td>yellowknife</td>\n",
       "      <td>62.4560</td>\n",
       "      <td>-114.3525</td>\n",
       "      <td>-24.77</td>\n",
       "      <td>82</td>\n",
       "      <td>20</td>\n",
       "      <td>2.57</td>\n",
       "      <td>CA</td>\n",
       "      <td>1709606159</td>\n",
       "    </tr>\n",
       "    <tr>\n",
       "      <th>3</th>\n",
       "      <td>adamstown</td>\n",
       "      <td>-25.0660</td>\n",
       "      <td>-130.1015</td>\n",
       "      <td>24.37</td>\n",
       "      <td>73</td>\n",
       "      <td>49</td>\n",
       "      <td>8.27</td>\n",
       "      <td>PN</td>\n",
       "      <td>1709606180</td>\n",
       "    </tr>\n",
       "    <tr>\n",
       "      <th>4</th>\n",
       "      <td>iqaluit</td>\n",
       "      <td>63.7506</td>\n",
       "      <td>-68.5145</td>\n",
       "      <td>-33.15</td>\n",
       "      <td>68</td>\n",
       "      <td>0</td>\n",
       "      <td>4.12</td>\n",
       "      <td>CA</td>\n",
       "      <td>1709606180</td>\n",
       "    </tr>\n",
       "  </tbody>\n",
       "</table>\n",
       "</div>"
      ],
      "text/plain": [
       "                   City      Lat       Lng  Max Temp  Humidity  Cloudiness  \\\n",
       "City_ID                                                                      \n",
       "0          punta arenas -53.1500  -70.9167     11.06        82          20   \n",
       "1        margaret river -33.9500  115.0667     22.25        48           0   \n",
       "2           yellowknife  62.4560 -114.3525    -24.77        82          20   \n",
       "3             adamstown -25.0660 -130.1015     24.37        73          49   \n",
       "4               iqaluit  63.7506  -68.5145    -33.15        68           0   \n",
       "\n",
       "         Wind Speed Country        Date  \n",
       "City_ID                                  \n",
       "0              3.09      CL  1709606178  \n",
       "1              5.55      AU  1709606179  \n",
       "2              2.57      CA  1709606159  \n",
       "3              8.27      PN  1709606180  \n",
       "4              4.12      CA  1709606180  "
      ]
     },
     "execution_count": 10,
     "metadata": {},
     "output_type": "execute_result"
    }
   ],
   "source": [
    "# Read saved data\n",
    "city_data_df = pd.read_csv(\"cities.csv\", index_col=\"City_ID\")\n",
    "\n",
    "# Display sample data\n",
    "city_data_df.head()"
   ]
  },
  {
   "cell_type": "markdown",
   "metadata": {},
   "source": [
    "### Create the Scatter Plots Requested\n",
    "\n",
    "#### Latitude Vs. Temperature"
   ]
  },
  {
   "cell_type": "code",
   "execution_count": 12,
   "metadata": {
    "tags": []
   },
   "outputs": [
    {
     "data": {
      "image/png": "[encoded data removed]",
      "text/plain": [
       "<Figure size 432x288 with 1 Axes>"
      ]
     },
     "metadata": {
      "needs_background": "light"
     },
     "output_type": "display_data"
    }
   ],
   "source": [
    "# Build scatter plot for latitude vs. temperature\n",
    "plt.scatter(city_data_df['Lat'],city_data_df['Max Temp'], marker='o', edgecolor='white')\n",
    "\n",
    "# Incorporate the other graph properties\n",
    "plt.xlabel('Latitude')\n",
    "plt.ylabel('Max. Temperature(C°)')\n",
    "plt.title('City Latitude vs.Temperature')\n",
    "plt.grid()\n",
    "\n",
    "# Save the figure\n",
    "plt.savefig(\"Fig1.png\")\n",
    "\n",
    "# Show plot\n",
    "plt.show()"
   ]
  },
  {
   "cell_type": "markdown",
   "metadata": {},
   "source": [
    "#### Latitude Vs. Humidity"
   ]
  },
  {
   "cell_type": "code",
   "execution_count": 13,
   "metadata": {},
   "outputs": [
    {
     "data": {
      "image/png": "[encoded data removed]",
      "text/plain": [
       "<Figure size 432x288 with 1 Axes>"
      ]
     },
     "metadata": {
      "needs_background": "light"
     },
     "output_type": "display_data"
    }
   ],
   "source": [
    "plt.scatter(city_data_df['Lat'],city_data_df['Humidity'], marker='o', edgecolor='white')\n",
    "\n",
    "# Incorporate the other graph properties\n",
    "plt.xlabel('Latitude')\n",
    "plt.ylabel('Humidity(%)')\n",
    "plt.title('City Latitude vs. Humidity')\n",
    "plt.grid()\n",
    "\n",
    "\n",
    "# Save the figure\n",
    "plt.savefig(\"Fig2.png\")\n",
    "\n",
    "# Show plot\n",
    "plt.show()"
   ]
  },
  {
   "cell_type": "markdown",
   "metadata": {},
   "source": [
    "#### Latitude Vs. Cloudiness"
   ]
  },
  {
   "cell_type": "code",
   "execution_count": 14,
   "metadata": {},
   "outputs": [
    {
     "data": {
      "image/png": "[encoded data removed]",
      "text/plain": [
       "<Figure size 432x288 with 1 Axes>"
      ]
     },
     "metadata": {
      "needs_background": "light"
     },
     "output_type": "display_data"
    }
   ],
   "source": [
    "# Build the scatter plots for latitude vs. cloudiness\n",
    "plt.scatter(city_data_df['Lat'],city_data_df['Cloudiness'], marker='o', edgecolor='white')\n",
    "\n",
    "# Incorporate the other graph properties\n",
    "plt.xlabel('Latitude')\n",
    "plt.ylabel('Cloudiness(%)')\n",
    "plt.title('City Latitude vs. Cloudiness')\n",
    "plt.grid()\n",
    "\n",
    "\n",
    "# Save the figure\n",
    "plt.savefig(\"Fig3.png\")\n",
    "\n",
    "# Show plot\n",
    "plt.show()"
   ]
  },
  {
   "cell_type": "markdown",
   "metadata": {},
   "source": [
    "#### Latitude vs. Wind Speed Plot"
   ]
  },
  {
   "cell_type": "code",
   "execution_count": 15,
   "metadata": {},
   "outputs": [
    {
     "data": {
      "image/png": "[encoded data removed]",
      "text/plain": [
       "<Figure size 432x288 with 1 Axes>"
      ]
     },
     "metadata": {
      "needs_background": "light"
     },
     "output_type": "display_data"
    }
   ],
   "source": [
    "# Build the scatter plots for latitude vs. wind speed\n",
    "plt.scatter(city_data_df['Lat'],city_data_df['Wind Speed'], marker='o', edgecolor='white')\n",
    "\n",
    "# Incorporate the other graph properties\n",
    "plt.xlabel('Latitude')\n",
    "plt.ylabel('Wind Speed')\n",
    "plt.title('City Latitude vs. Wind Speed')\n",
    "plt.grid()\n",
    "\n",
    "\n",
    "# Save the figure\n",
    "plt.savefig(\"Fig4.png\")\n",
    "\n",
    "# Show plot\n",
    "plt.show()"
   ]
  },
  {
   "cell_type": "markdown",
   "metadata": {},
   "source": [
    "---\n",
    "\n",
    "## Requirement 2: Compute Linear Regression for Each Relationship\n"
   ]
  },
  {
   "cell_type": "code",
   "execution_count": 30,
   "metadata": {},
   "outputs": [],
   "source": [
    "import scipy.stats as st\n",
    "# Define a function to create Linear Regression plots\n",
    "def linear_reg(x_axis, y_axis, eq_loc, y_label='Y Axis'): \n",
    "    # Perform linear regression\n",
    "    slope, intercept, r_value, p_value, std_err = st.linregress(x_axis, y_axis)\n",
    "    \n",
    "    # Calculate the regression line \"y values\" from the slope and intercept\n",
    "    reg_values = x_axis * slope + intercept\n",
    "    \n",
    "    # Plot the data points\n",
    "    plt.scatter(x_axis, y_axis)\n",
    "    \n",
    "    # Plot the regression line\n",
    "    plt.plot(x_axis, reg_values, \"r-\")\n",
    "    \n",
    "    # Annotate the regression line equation\n",
    "    plt.annotate(f\"y = {slope:.2f}x + {intercept:.2f}\", xy=eq_loc, fontsize=15, color=\"red\")\n",
    "    \n",
    "    plt.xlabel('Latitude')\n",
    "    plt.ylabel(y_label)\n",
    "    plt.show()\n",
    "    \n",
    "    # Return the r-value\n",
    "    return r_value"
   ]
  },
  {
   "cell_type": "code",
   "execution_count": 17,
   "metadata": {},
   "outputs": [
    {
     "data": {
      "text/html": [
       "<div>\n",
       "<style scoped>\n",
       "    .dataframe tbody tr th:only-of-type {\n",
       "        vertical-align: middle;\n",
       "    }\n",
       "\n",
       "    .dataframe tbody tr th {\n",
       "        vertical-align: top;\n",
       "    }\n",
       "\n",
       "    .dataframe thead th {\n",
       "        text-align: right;\n",
       "    }\n",
       "</style>\n",
       "<table border=\"1\" class=\"dataframe\">\n",
       "  <thead>\n",
       "    <tr style=\"text-align: right;\">\n",
       "      <th></th>\n",
       "      <th>City</th>\n",
       "      <th>Lat</th>\n",
       "      <th>Lng</th>\n",
       "      <th>Max Temp</th>\n",
       "      <th>Humidity</th>\n",
       "      <th>Cloudiness</th>\n",
       "      <th>Wind Speed</th>\n",
       "      <th>Country</th>\n",
       "      <th>Date</th>\n",
       "    </tr>\n",
       "    <tr>\n",
       "      <th>City_ID</th>\n",
       "      <th></th>\n",
       "      <th></th>\n",
       "      <th></th>\n",
       "      <th></th>\n",
       "      <th></th>\n",
       "      <th></th>\n",
       "      <th></th>\n",
       "      <th></th>\n",
       "      <th></th>\n",
       "    </tr>\n",
       "  </thead>\n",
       "  <tbody>\n",
       "    <tr>\n",
       "      <th>2</th>\n",
       "      <td>yellowknife</td>\n",
       "      <td>62.4560</td>\n",
       "      <td>-114.3525</td>\n",
       "      <td>-24.77</td>\n",
       "      <td>82</td>\n",
       "      <td>20</td>\n",
       "      <td>2.57</td>\n",
       "      <td>CA</td>\n",
       "      <td>1709606159</td>\n",
       "    </tr>\n",
       "    <tr>\n",
       "      <th>4</th>\n",
       "      <td>iqaluit</td>\n",
       "      <td>63.7506</td>\n",
       "      <td>-68.5145</td>\n",
       "      <td>-33.15</td>\n",
       "      <td>68</td>\n",
       "      <td>0</td>\n",
       "      <td>4.12</td>\n",
       "      <td>CA</td>\n",
       "      <td>1709606180</td>\n",
       "    </tr>\n",
       "    <tr>\n",
       "      <th>9</th>\n",
       "      <td>kushiro</td>\n",
       "      <td>42.9750</td>\n",
       "      <td>144.3747</td>\n",
       "      <td>-1.47</td>\n",
       "      <td>69</td>\n",
       "      <td>75</td>\n",
       "      <td>5.14</td>\n",
       "      <td>JP</td>\n",
       "      <td>1709606183</td>\n",
       "    </tr>\n",
       "    <tr>\n",
       "      <th>10</th>\n",
       "      <td>talnakh</td>\n",
       "      <td>69.4865</td>\n",
       "      <td>88.3972</td>\n",
       "      <td>-19.64</td>\n",
       "      <td>94</td>\n",
       "      <td>95</td>\n",
       "      <td>2.30</td>\n",
       "      <td>RU</td>\n",
       "      <td>1709606001</td>\n",
       "    </tr>\n",
       "    <tr>\n",
       "      <th>13</th>\n",
       "      <td>stanley</td>\n",
       "      <td>54.8680</td>\n",
       "      <td>-1.6985</td>\n",
       "      <td>5.43</td>\n",
       "      <td>89</td>\n",
       "      <td>40</td>\n",
       "      <td>3.60</td>\n",
       "      <td>GB</td>\n",
       "      <td>1709606185</td>\n",
       "    </tr>\n",
       "  </tbody>\n",
       "</table>\n",
       "</div>"
      ],
      "text/plain": [
       "                City      Lat       Lng  Max Temp  Humidity  Cloudiness  \\\n",
       "City_ID                                                                   \n",
       "2        yellowknife  62.4560 -114.3525    -24.77        82          20   \n",
       "4            iqaluit  63.7506  -68.5145    -33.15        68           0   \n",
       "9            kushiro  42.9750  144.3747     -1.47        69          75   \n",
       "10           talnakh  69.4865   88.3972    -19.64        94          95   \n",
       "13           stanley  54.8680   -1.6985      5.43        89          40   \n",
       "\n",
       "         Wind Speed Country        Date  \n",
       "City_ID                                  \n",
       "2              2.57      CA  1709606159  \n",
       "4              4.12      CA  1709606180  \n",
       "9              5.14      JP  1709606183  \n",
       "10             2.30      RU  1709606001  \n",
       "13             3.60      GB  1709606185  "
      ]
     },
     "execution_count": 17,
     "metadata": {},
     "output_type": "execute_result"
    }
   ],
   "source": [
    "# Create a DataFrame with the Northern Hemisphere data (Latitude >= 0)\n",
    "northern_hemi_df = city_data_df.loc[city_data_df['Lat']>=0]\n",
    "\n",
    "# Display sample data\n",
    "northern_hemi_df.head()"
   ]
  },
  {
   "cell_type": "code",
   "execution_count": 19,
   "metadata": {},
   "outputs": [
    {
     "data": {
      "text/html": [
       "<div>\n",
       "<style scoped>\n",
       "    .dataframe tbody tr th:only-of-type {\n",
       "        vertical-align: middle;\n",
       "    }\n",
       "\n",
       "    .dataframe tbody tr th {\n",
       "        vertical-align: top;\n",
       "    }\n",
       "\n",
       "    .dataframe thead th {\n",
       "        text-align: right;\n",
       "    }\n",
       "</style>\n",
       "<table border=\"1\" class=\"dataframe\">\n",
       "  <thead>\n",
       "    <tr style=\"text-align: right;\">\n",
       "      <th></th>\n",
       "      <th>City</th>\n",
       "      <th>Lat</th>\n",
       "      <th>Lng</th>\n",
       "      <th>Max Temp</th>\n",
       "      <th>Humidity</th>\n",
       "      <th>Cloudiness</th>\n",
       "      <th>Wind Speed</th>\n",
       "      <th>Country</th>\n",
       "      <th>Date</th>\n",
       "    </tr>\n",
       "    <tr>\n",
       "      <th>City_ID</th>\n",
       "      <th></th>\n",
       "      <th></th>\n",
       "      <th></th>\n",
       "      <th></th>\n",
       "      <th></th>\n",
       "      <th></th>\n",
       "      <th></th>\n",
       "      <th></th>\n",
       "      <th></th>\n",
       "    </tr>\n",
       "  </thead>\n",
       "  <tbody>\n",
       "    <tr>\n",
       "      <th>0</th>\n",
       "      <td>punta arenas</td>\n",
       "      <td>-53.1500</td>\n",
       "      <td>-70.9167</td>\n",
       "      <td>11.06</td>\n",
       "      <td>82</td>\n",
       "      <td>20</td>\n",
       "      <td>3.09</td>\n",
       "      <td>CL</td>\n",
       "      <td>1709606178</td>\n",
       "    </tr>\n",
       "    <tr>\n",
       "      <th>1</th>\n",
       "      <td>margaret river</td>\n",
       "      <td>-33.9500</td>\n",
       "      <td>115.0667</td>\n",
       "      <td>22.25</td>\n",
       "      <td>48</td>\n",
       "      <td>0</td>\n",
       "      <td>5.55</td>\n",
       "      <td>AU</td>\n",
       "      <td>1709606179</td>\n",
       "    </tr>\n",
       "    <tr>\n",
       "      <th>3</th>\n",
       "      <td>adamstown</td>\n",
       "      <td>-25.0660</td>\n",
       "      <td>-130.1015</td>\n",
       "      <td>24.37</td>\n",
       "      <td>73</td>\n",
       "      <td>49</td>\n",
       "      <td>8.27</td>\n",
       "      <td>PN</td>\n",
       "      <td>1709606180</td>\n",
       "    </tr>\n",
       "    <tr>\n",
       "      <th>5</th>\n",
       "      <td>el calafate</td>\n",
       "      <td>-50.3408</td>\n",
       "      <td>-72.2768</td>\n",
       "      <td>12.90</td>\n",
       "      <td>63</td>\n",
       "      <td>100</td>\n",
       "      <td>1.59</td>\n",
       "      <td>AR</td>\n",
       "      <td>1709606181</td>\n",
       "    </tr>\n",
       "    <tr>\n",
       "      <th>6</th>\n",
       "      <td>ushuaia</td>\n",
       "      <td>-54.8000</td>\n",
       "      <td>-68.3000</td>\n",
       "      <td>13.81</td>\n",
       "      <td>47</td>\n",
       "      <td>0</td>\n",
       "      <td>1.54</td>\n",
       "      <td>AR</td>\n",
       "      <td>1709606181</td>\n",
       "    </tr>\n",
       "  </tbody>\n",
       "</table>\n",
       "</div>"
      ],
      "text/plain": [
       "                   City      Lat       Lng  Max Temp  Humidity  Cloudiness  \\\n",
       "City_ID                                                                      \n",
       "0          punta arenas -53.1500  -70.9167     11.06        82          20   \n",
       "1        margaret river -33.9500  115.0667     22.25        48           0   \n",
       "3             adamstown -25.0660 -130.1015     24.37        73          49   \n",
       "5           el calafate -50.3408  -72.2768     12.90        63         100   \n",
       "6               ushuaia -54.8000  -68.3000     13.81        47           0   \n",
       "\n",
       "         Wind Speed Country        Date  \n",
       "City_ID                                  \n",
       "0              3.09      CL  1709606178  \n",
       "1              5.55      AU  1709606179  \n",
       "3              8.27      PN  1709606180  \n",
       "5              1.59      AR  1709606181  \n",
       "6              1.54      AR  1709606181  "
      ]
     },
     "execution_count": 19,
     "metadata": {},
     "output_type": "execute_result"
    }
   ],
   "source": [
    "# Create a DataFrame with the Southern Hemisphere data (Latitude < 0)\n",
    "southern_hemi_df = city_data_df.loc[city_data_df['Lat']<0]\n",
    "\n",
    "# Display sample data\n",
    "southern_hemi_df.head()"
   ]
  },
  {
   "cell_type": "markdown",
   "metadata": {},
   "source": [
    "###  Temperature vs. Latitude Linear Regression Plot"
   ]
  },
  {
   "cell_type": "code",
   "execution_count": 25,
   "metadata": {},
   "outputs": [
    {
     "data": {
      "image/png": "[encoded data removed]",
      "text/plain": [
       "<Figure size 432x288 with 1 Axes>"
      ]
     },
     "metadata": {
      "needs_background": "light"
     },
     "output_type": "display_data"
    },
    {
     "name": "stdout",
     "output_type": "stream",
     "text": [
      "The r-value is: 0.550027730452688\n"
     ]
    }
   ],
   "source": [
    "# Linear regression on Northern Hemisphere\n",
    "r_value = linear_reg(northern_hemi_df['Lat'], northern_hemi_df['Max Temp'], (10, -10))\n",
    "print(f\"The r-value is: {r_value}\")"
   ]
  },
  {
   "cell_type": "code",
   "execution_count": 26,
   "metadata": {},
   "outputs": [
    {
     "data": {
      "image/png": "[encoded data removed]",
      "text/plain": [
       "<Figure size 432x288 with 1 Axes>"
      ]
     },
     "metadata": {
      "needs_background": "light"
     },
     "output_type": "display_data"
    },
    {
     "name": "stdout",
     "output_type": "stream",
     "text": [
      "The r-value is: 0.550027730452688\n"
     ]
    }
   ],
   "source": [
    "# Linear regression on Southern Hemisphere\n",
    "r_value = linear_reg(southern_hemi_df['Lat'], southern_hemi_df['Max Temp'], (10, -10))\n",
    "print(f\"The r-value is: {r_value}\")"
   ]
  },
  {
   "cell_type": "markdown",
   "metadata": {},
   "source": [
    "**Discussion about the linear relationship:** In the northern hemisphere there is a negative correlation meaning the higher latitude of the city, the lower temperature. On the southern there is a positive correlation, the higher the latitude the higher the temperature. "
   ]
  },
  {
   "cell_type": "markdown",
   "metadata": {},
   "source": [
    "### Humidity vs. Latitude Linear Regression Plot"
   ]
  },
  {
   "cell_type": "code",
   "execution_count": 31,
   "metadata": {},
   "outputs": [
    {
     "data": {
      "image/png": "[encoded data removed]",
      "text/plain": [
       "<Figure size 432x288 with 1 Axes>"
      ]
     },
     "metadata": {
      "needs_background": "light"
     },
     "output_type": "display_data"
    },
    {
     "name": "stdout",
     "output_type": "stream",
     "text": [
      "The r-value is: 0.44021638690690007\n"
     ]
    }
   ],
   "source": [
    "# Northern Hemisphere\n",
    "r_value = linear_reg(northern_hemi_df['Lat'], northern_hemi_df['Humidity'], (10, -10))\n",
    "print(f\"The r-value is: {r_value}\")"
   ]
  },
  {
   "cell_type": "code",
   "execution_count": 32,
   "metadata": {},
   "outputs": [
    {
     "data": {
      "image/png": "[encoded data removed]",
      "text/plain": [
       "<Figure size 432x288 with 1 Axes>"
      ]
     },
     "metadata": {
      "needs_background": "light"
     },
     "output_type": "display_data"
    },
    {
     "name": "stdout",
     "output_type": "stream",
     "text": [
      "The r-value is: 0.44021638690690007\n"
     ]
    }
   ],
   "source": [
    "# Southern Hemisphere\n",
    "r_value = linear_reg(southern_hemi_df['Lat'], southern_hemi_df['Humidity'], (10, -10))\n",
    "print(f\"The r-value is: {r_value}\")"
   ]
  },
  {
   "cell_type": "markdown",
   "metadata": {},
   "source": [
    "**Discussion about the linear relationship:** In the northern hemisphere there is a low positive correlation meaning the higher the latitude the higher the latitude the higher humidity of the city. On the southern it happens the same, but the changes for both will be minimal."
   ]
  },
  {
   "cell_type": "markdown",
   "metadata": {},
   "source": [
    "### Cloudiness vs. Latitude Linear Regression Plot"
   ]
  },
  {
   "cell_type": "code",
   "execution_count": 33,
   "metadata": {},
   "outputs": [
    {
     "data": {
      "image/png": "[encoded data removed]",
      "text/plain": [
       "<Figure size 432x288 with 1 Axes>"
      ]
     },
     "metadata": {
      "needs_background": "light"
     },
     "output_type": "display_data"
    },
    {
     "name": "stdout",
     "output_type": "stream",
     "text": [
      "The r-value is: 0.2385326998799146\n"
     ]
    }
   ],
   "source": [
    "# Northern Hemisphere\n",
    "r_value = linear_reg(northern_hemi_df['Lat'], northern_hemi_df['Cloudiness'], (10, -10))\n",
    "print(f\"The r-value is: {r_value}\")"
   ]
  },
  {
   "cell_type": "code",
   "execution_count": 34,
   "metadata": {},
   "outputs": [
    {
     "data": {
      "image/png": "[encoded data removed]",
      "text/plain": [
       "<Figure size 432x288 with 1 Axes>"
      ]
     },
     "metadata": {
      "needs_background": "light"
     },
     "output_type": "display_data"
    },
    {
     "name": "stdout",
     "output_type": "stream",
     "text": [
      "The r-value is: 0.2385326998799146\n"
     ]
    }
   ],
   "source": [
    "# Southern Hemisphere\n",
    "r_value = linear_reg(southern_hemi_df['Lat'], southern_hemi_df['Cloudiness'], (10, -10))\n",
    "print(f\"The r-value is: {r_value}\")"
   ]
  },
  {
   "cell_type": "markdown",
   "metadata": {},
   "source": [
    "**Discussion about the linear relationship:** For both there is almost no correlation so the latitude has little to do with the cloudiness."
   ]
  },
  {
   "cell_type": "markdown",
   "metadata": {},
   "source": [
    "### Wind Speed vs. Latitude Linear Regression Plot"
   ]
  },
  {
   "cell_type": "code",
   "execution_count": 35,
   "metadata": {},
   "outputs": [
    {
     "data": {
      "image/png": "[encoded data removed]",
      "text/plain": [
       "<Figure size 432x288 with 1 Axes>"
      ]
     },
     "metadata": {
      "needs_background": "light"
     },
     "output_type": "display_data"
    },
    {
     "name": "stdout",
     "output_type": "stream",
     "text": [
      "The r-value is: -0.42923934916686507\n"
     ]
    }
   ],
   "source": [
    "# Northern Hemisphere\n",
    "r_value = linear_reg(northern_hemi_df['Lat'], northern_hemi_df['Wind Speed'], (10, -10))\n",
    "print(f\"The r-value is: {r_value}\")"
   ]
  },
  {
   "cell_type": "code",
   "execution_count": 36,
   "metadata": {},
   "outputs": [
    {
     "data": {
      "image/png": "[encoded data removed]",
      "text/plain": [
       "<Figure size 432x288 with 1 Axes>"
      ]
     },
     "metadata": {
      "needs_background": "light"
     },
     "output_type": "display_data"
    },
    {
     "name": "stdout",
     "output_type": "stream",
     "text": [
      "The r-value is: -0.42923934916686507\n"
     ]
    }
   ],
   "source": [
    "# Southern Hemisphere\n",
    "r_value = linear_reg(southern_hemi_df['Lat'], southern_hemi_df['Wind Speed'], (10, -10))\n",
    "print(f\"The r-value is: {r_value}\")"
   ]
  },
  {
   "cell_type": "markdown",
   "metadata": {},
   "source": [
    "**Discussion about the linear relationship:** For both there is almost no correlation so the latitude has little to do with the wind speed, however in the southern there is a bit of negative correlation, but not mutch to sway the data ."
   ]
  },
  {
   "cell_type": "code",
   "execution_count": null,
   "metadata": {},
   "outputs": [],
   "source": []
  }
 ],
 "metadata": {
  "anaconda-cloud": {},
  "kernel_info": {
   "name": "python3"
  },
  "kernelspec": {
   "display_name": "Python 3 (ipykernel)",
   "language": "python",
   "name": "python3"
  },
  "language_info": {
   "codemirror_mode": {
    "name": "ipython",
    "version": 3
   },
   "file_extension": ".py",
   "mimetype": "text/x-python",
   "name": "python",
   "nbconvert_exporter": "python",
   "pygments_lexer": "ipython3",
   "version": "3.9.12"
  },
  "latex_envs": {
   "LaTeX_envs_menu_present": true,
   "autoclose": false,
   "autocomplete": true,
   "bibliofile": "biblio.bib",
   "cite_by": "apalike",
   "current_citInitial": 1,
   "eqLabelWithNumbers": true,
   "eqNumInitial": 1,
   "hotkeys": {
    "equation": "Ctrl-E",
    "itemize": "Ctrl-I"
   },
   "labels_anchors": false,
   "latex_user_defs": false,
   "report_style_numbering": false,
   "user_envs_cfg": false
  },
  "nteract": {
   "version": "0.12.3"
  }
 },
 "nbformat": 4,
 "nbformat_minor": 4
}
